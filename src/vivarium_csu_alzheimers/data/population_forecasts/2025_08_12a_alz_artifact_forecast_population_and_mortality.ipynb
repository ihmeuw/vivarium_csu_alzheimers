{
 "cells": [
  {
   "cell_type": "markdown",
   "id": "707c75b9-d5e4-4924-8d39-fd78a1e4f7ce",
   "metadata": {},
   "source": [
    "# Demonstrate how to replace population and mortality data for Alzheimer's Model 3 with forecasts\n",
    "\n",
    "    Age-specific population - /mnt/share/forecasting/data/9/future/population/20240320_daly_capstone_resubmission_squeeze_soft_round_shifted_hiv_shocks_covid_all_who_reagg/population_agg.nc\n",
    "\n",
    "    Deaths Rates - /snfs1/Project/forecasting/results/7/future/death/20240320_daly_capstone_resubmission_squeeze_soft_round_shifted_hiv_shocks_covid_all_who_reagg/\n",
    "\n"
   ]
  },
  {
   "cell_type": "code",
   "execution_count": 1,
   "id": "72ad6069-18c3-4b28-afa7-915fd1ed0e45",
   "metadata": {},
   "outputs": [
    {
     "name": "stdout",
     "output_type": "stream",
     "text": [
      "Tue Aug 19 08:04:46 PDT 2025\n"
     ]
    }
   ],
   "source": [
    "import vivarium\n",
    "!date"
   ]
  },
  {
   "cell_type": "code",
   "execution_count": 2,
   "id": "d85f887c-ba85-44ae-9df4-6c4287b4d2b2",
   "metadata": {},
   "outputs": [],
   "source": [
    "import xarray as xr, numpy as np, pandas as pd, matplotlib.pyplot as plt"
   ]
  },
  {
   "cell_type": "code",
   "execution_count": 3,
   "id": "4b6c89c3",
   "metadata": {},
   "outputs": [
    {
     "name": "stdout",
     "output_type": "stream",
     "text": [
      "-rw-rw-r-- 1 tylerdy IHME-Simulationscience 2.9M Aug 19 08:04 /mnt/team/simulation_science/pub/models/vivarium_csu_alzheimers/artifacts/model3.0//united_states_of_america.hdf\n"
     ]
    }
   ],
   "source": [
    "# copy model 2 artifact to a new place for modification\n",
    "# TODO: make this work for all location artifacts\n",
    "old_artifact_path = '/mnt/team/simulation_science/pub/models/vivarium_csu_alzheimers/artifacts/model2.0/united_states_of_america.hdf'\n",
    "new_artifact_dir = '/mnt/team/simulation_science/pub/models/vivarium_csu_alzheimers/artifacts/model3.0/'\n",
    "!cp $old_artifact_path $new_artifact_dir   # TODO: modify an artifact being built for the current model instead of copying the artifact from model 2\n",
    "!ls -halt $new_artifact_dir/united_states_of_america.hdf"
   ]
  },
  {
   "cell_type": "code",
   "execution_count": 4,
   "id": "fb4615ce",
   "metadata": {},
   "outputs": [
    {
     "data": {
      "text/plain": [
       "['metadata.keyspace',\n",
       " 'metadata.locations',\n",
       " 'population.location',\n",
       " 'population.structure',\n",
       " 'population.age_bins',\n",
       " 'population.demographic_dimensions',\n",
       " 'population.theoretical_minimum_risk_life_expectancy',\n",
       " 'cause.all_causes.cause_specific_mortality_rate',\n",
       " 'covariate.live_births_by_sex.estimate',\n",
       " 'cause.alzheimers_disease_and_other_dementias.prevalence_scale_factor',\n",
       " 'cause.alzheimers_disease_and_other_dementias.prevalence',\n",
       " 'cause.alzheimers_disease_and_other_dementias.incidence_rate',\n",
       " 'cause.alzheimers_disease_and_other_dementias.cause_specific_mortality_rate',\n",
       " 'cause.alzheimers_disease_and_other_dementias.excess_mortality_rate',\n",
       " 'cause.alzheimers_disease_and_other_dementias.disability_weight',\n",
       " 'cause.alzheimers_disease_and_other_dementias.restrictions']"
      ]
     },
     "execution_count": 4,
     "metadata": {},
     "output_type": "execute_result"
    }
   ],
   "source": [
    "# take a look at what we are planning to replace\n",
    "art = vivarium.Artifact(\n",
    "    f\"{new_artifact_dir}/united_states_of_america.hdf\"\n",
    ")  # TODO: make this generate for any location\n",
    "art.keys"
   ]
  },
  {
   "cell_type": "code",
   "execution_count": 5,
   "id": "fffb34e1",
   "metadata": {},
   "outputs": [],
   "source": [
    "# art.load('population.structure')"
   ]
  },
  {
   "cell_type": "code",
   "execution_count": 6,
   "id": "589c13c2",
   "metadata": {},
   "outputs": [],
   "source": [
    "# art.load('cause.all_causes.cause_specific_mortality_rate')"
   ]
  },
  {
   "cell_type": "markdown",
   "id": "4922ad15",
   "metadata": {},
   "source": [
    "## make tables from FHS .nc files"
   ]
  },
  {
   "cell_type": "code",
   "execution_count": 7,
   "id": "19c0ac4d-5cb2-47f8-83c0-4908e69d541f",
   "metadata": {},
   "outputs": [],
   "source": [
    "def table_from_nc(fname_dict, param, loc_id, loc_name, age_mapping):\n",
    "    ds = xr.open_dataset(\n",
    "        fname_dict[param],\n",
    "        engine=\"netcdf4\",  # let xarray auto-detect; list here if you know it\n",
    "        decode_cf=True,  # handle CF-conventions (time units, etc.)\n",
    "    )\n",
    "\n",
    "    # Select relevant part of FHS dataset\n",
    "    var_name = param\n",
    "    if param == \"births\":\n",
    "        var_name = \"population\"\n",
    "    elif param in [\"migration\", \"mortality\"]:\n",
    "        var_name = \"value\"\n",
    "\n",
    "    pop_ts = ds[var_name].sel(\n",
    "        location_id=loc_id,\n",
    "    )\n",
    "\n",
    "    if param != \"migration\":\n",
    "        pop_ts = pop_ts.isel(scenario=0)\n",
    "\n",
    "    pop_ts = pop_ts.squeeze(drop=True)  # remove now-singleton dims\n",
    "\n",
    "    df = pop_ts.to_dataframe(name=\"value\").reset_index()\n",
    "\n",
    "    # Transform to vivarium format\n",
    "    # 1. Convert location_id to location name\n",
    "    df[\"location\"] = loc_name\n",
    "\n",
    "    # 2. Convert sex_id to sex names\n",
    "    sex_mapping = {\n",
    "        1: \"Male\",\n",
    "        2: \"Female\",\n",
    "    }\n",
    "    df[\"sex\"] = df[\"sex_id\"].map(sex_mapping)\n",
    "\n",
    "    # 3. Convert age_group_id to age intervals\n",
    "    if param != \"births\":\n",
    "        age_bins = age_mapping.set_index(\"age_group_id\")\n",
    "        df[\"age_start\"] = np.round(df[\"age_group_id\"].map(age_bins[\"age_start\"]), 3)\n",
    "        df[\"age_end\"] = np.round(df[\"age_group_id\"].map(age_bins[\"age_end\"]), 3)\n",
    "        age_cols = [\"age_start\", \"age_end\"]\n",
    "    else:\n",
    "        age_cols = []\n",
    "\n",
    "    # 4. Convert year_id to year intervals\n",
    "    df[\"year_start\"] = df[\"year_id\"].map(int)\n",
    "    df[\"year_end\"] = df[\"year_id\"].map(int) + 1\n",
    "\n",
    "    # 5. Set index and unstack to get draw columns\n",
    "    index_cols = (\n",
    "        [\n",
    "            \"location\",\n",
    "            \"sex\",\n",
    "        ]\n",
    "        + age_cols\n",
    "        + [\"year_start\", \"year_end\", \"draw\"]\n",
    "    )\n",
    "    df_indexed = df.dropna(subset=index_cols).set_index(index_cols)\n",
    "\n",
    "    df_wide = df_indexed[\"value\"].unstack(level=\"draw\")\n",
    "\n",
    "    # 6. Rename columns to draw_x format\n",
    "    df_wide.columns = [f\"draw_{col}\" for col in df_wide.columns]\n",
    "\n",
    "    return df_wide"
   ]
  },
  {
   "cell_type": "code",
   "execution_count": 8,
   "id": "964832a3-08ee-4a73-9e2b-220452f33e50",
   "metadata": {},
   "outputs": [
    {
     "data": {
      "text/html": [
       "<div>\n",
       "<style scoped>\n",
       "    .dataframe tbody tr th:only-of-type {\n",
       "        vertical-align: middle;\n",
       "    }\n",
       "\n",
       "    .dataframe tbody tr th {\n",
       "        vertical-align: top;\n",
       "    }\n",
       "\n",
       "    .dataframe thead th {\n",
       "        text-align: right;\n",
       "    }\n",
       "</style>\n",
       "<table border=\"1\" class=\"dataframe\">\n",
       "  <thead>\n",
       "    <tr style=\"text-align: right;\">\n",
       "      <th></th>\n",
       "      <th>Unnamed: 0</th>\n",
       "      <th>age_group_id</th>\n",
       "      <th>age_group_name</th>\n",
       "      <th>age_start</th>\n",
       "      <th>age_end</th>\n",
       "    </tr>\n",
       "  </thead>\n",
       "  <tbody>\n",
       "    <tr>\n",
       "      <th>0</th>\n",
       "      <td>5</td>\n",
       "      <td>5</td>\n",
       "      <td>0 to 5</td>\n",
       "      <td>0.0</td>\n",
       "      <td>5.0</td>\n",
       "    </tr>\n",
       "    <tr>\n",
       "      <th>1</th>\n",
       "      <td>6</td>\n",
       "      <td>6</td>\n",
       "      <td>5 to 9</td>\n",
       "      <td>5.0</td>\n",
       "      <td>10.0</td>\n",
       "    </tr>\n",
       "    <tr>\n",
       "      <th>2</th>\n",
       "      <td>7</td>\n",
       "      <td>7</td>\n",
       "      <td>10 to 14</td>\n",
       "      <td>10.0</td>\n",
       "      <td>15.0</td>\n",
       "    </tr>\n",
       "    <tr>\n",
       "      <th>3</th>\n",
       "      <td>8</td>\n",
       "      <td>8</td>\n",
       "      <td>15 to 19</td>\n",
       "      <td>15.0</td>\n",
       "      <td>20.0</td>\n",
       "    </tr>\n",
       "    <tr>\n",
       "      <th>4</th>\n",
       "      <td>9</td>\n",
       "      <td>9</td>\n",
       "      <td>20 to 24</td>\n",
       "      <td>20.0</td>\n",
       "      <td>25.0</td>\n",
       "    </tr>\n",
       "    <tr>\n",
       "      <th>5</th>\n",
       "      <td>10</td>\n",
       "      <td>10</td>\n",
       "      <td>25 to 29</td>\n",
       "      <td>25.0</td>\n",
       "      <td>30.0</td>\n",
       "    </tr>\n",
       "    <tr>\n",
       "      <th>6</th>\n",
       "      <td>11</td>\n",
       "      <td>11</td>\n",
       "      <td>30 to 34</td>\n",
       "      <td>30.0</td>\n",
       "      <td>35.0</td>\n",
       "    </tr>\n",
       "    <tr>\n",
       "      <th>7</th>\n",
       "      <td>12</td>\n",
       "      <td>12</td>\n",
       "      <td>35 to 39</td>\n",
       "      <td>35.0</td>\n",
       "      <td>40.0</td>\n",
       "    </tr>\n",
       "    <tr>\n",
       "      <th>8</th>\n",
       "      <td>13</td>\n",
       "      <td>13</td>\n",
       "      <td>40 to 44</td>\n",
       "      <td>40.0</td>\n",
       "      <td>45.0</td>\n",
       "    </tr>\n",
       "    <tr>\n",
       "      <th>9</th>\n",
       "      <td>14</td>\n",
       "      <td>14</td>\n",
       "      <td>45 to 49</td>\n",
       "      <td>45.0</td>\n",
       "      <td>50.0</td>\n",
       "    </tr>\n",
       "    <tr>\n",
       "      <th>10</th>\n",
       "      <td>15</td>\n",
       "      <td>15</td>\n",
       "      <td>50 to 54</td>\n",
       "      <td>50.0</td>\n",
       "      <td>55.0</td>\n",
       "    </tr>\n",
       "    <tr>\n",
       "      <th>11</th>\n",
       "      <td>16</td>\n",
       "      <td>16</td>\n",
       "      <td>55 to 59</td>\n",
       "      <td>55.0</td>\n",
       "      <td>60.0</td>\n",
       "    </tr>\n",
       "    <tr>\n",
       "      <th>12</th>\n",
       "      <td>17</td>\n",
       "      <td>17</td>\n",
       "      <td>60 to 64</td>\n",
       "      <td>60.0</td>\n",
       "      <td>65.0</td>\n",
       "    </tr>\n",
       "    <tr>\n",
       "      <th>13</th>\n",
       "      <td>18</td>\n",
       "      <td>18</td>\n",
       "      <td>65 to 69</td>\n",
       "      <td>65.0</td>\n",
       "      <td>70.0</td>\n",
       "    </tr>\n",
       "    <tr>\n",
       "      <th>14</th>\n",
       "      <td>19</td>\n",
       "      <td>19</td>\n",
       "      <td>70 to 74</td>\n",
       "      <td>70.0</td>\n",
       "      <td>75.0</td>\n",
       "    </tr>\n",
       "    <tr>\n",
       "      <th>15</th>\n",
       "      <td>20</td>\n",
       "      <td>20</td>\n",
       "      <td>75 to 79</td>\n",
       "      <td>75.0</td>\n",
       "      <td>80.0</td>\n",
       "    </tr>\n",
       "    <tr>\n",
       "      <th>16</th>\n",
       "      <td>21</td>\n",
       "      <td>30</td>\n",
       "      <td>80 to 84</td>\n",
       "      <td>80.0</td>\n",
       "      <td>85.0</td>\n",
       "    </tr>\n",
       "    <tr>\n",
       "      <th>17</th>\n",
       "      <td>22</td>\n",
       "      <td>31</td>\n",
       "      <td>85 to 89</td>\n",
       "      <td>85.0</td>\n",
       "      <td>90.0</td>\n",
       "    </tr>\n",
       "    <tr>\n",
       "      <th>18</th>\n",
       "      <td>23</td>\n",
       "      <td>32</td>\n",
       "      <td>90 to 94</td>\n",
       "      <td>90.0</td>\n",
       "      <td>95.0</td>\n",
       "    </tr>\n",
       "    <tr>\n",
       "      <th>19</th>\n",
       "      <td>24</td>\n",
       "      <td>235</td>\n",
       "      <td>95 plus</td>\n",
       "      <td>95.0</td>\n",
       "      <td>125.0</td>\n",
       "    </tr>\n",
       "  </tbody>\n",
       "</table>\n",
       "</div>"
      ],
      "text/plain": [
       "    Unnamed: 0  age_group_id age_group_name  age_start  age_end\n",
       "0            5             5         0 to 5        0.0      5.0\n",
       "1            6             6         5 to 9        5.0     10.0\n",
       "2            7             7       10 to 14       10.0     15.0\n",
       "3            8             8       15 to 19       15.0     20.0\n",
       "4            9             9       20 to 24       20.0     25.0\n",
       "5           10            10       25 to 29       25.0     30.0\n",
       "6           11            11       30 to 34       30.0     35.0\n",
       "7           12            12       35 to 39       35.0     40.0\n",
       "8           13            13       40 to 44       40.0     45.0\n",
       "9           14            14       45 to 49       45.0     50.0\n",
       "10          15            15       50 to 54       50.0     55.0\n",
       "11          16            16       55 to 59       55.0     60.0\n",
       "12          17            17       60 to 64       60.0     65.0\n",
       "13          18            18       65 to 69       65.0     70.0\n",
       "14          19            19       70 to 74       70.0     75.0\n",
       "15          20            20       75 to 79       75.0     80.0\n",
       "16          21            30       80 to 84       80.0     85.0\n",
       "17          22            31       85 to 89       85.0     90.0\n",
       "18          23            32       90 to 94       90.0     95.0\n",
       "19          24           235        95 plus       95.0    125.0"
      ]
     },
     "execution_count": 8,
     "metadata": {},
     "output_type": "execute_result"
    }
   ],
   "source": [
    "fname_dict = {\n",
    "    \"population\": \"/mnt/share/forecasting/data/9/future/population/20240320_daly_capstone_resubmission_squeeze_soft_round_shifted_hiv_shocks_covid_all_who_reagg/population_agg.nc\",\n",
    "    #     'births': '/mnt/share/forecasting/data/9/future/live_births/20231204_ref/live_births.nc',\n",
    "    #     'deaths': '/snfs1/Project/forecasting/results/7/future/death/20240320_daly_capstone_resubmission_squeeze_soft_round_shifted_hiv_shocks_covid_all_who_reagg_num/_all.nc',\n",
    "    \"mortality\": \"/snfs1/Project/forecasting/results/7/future/death/20240320_daly_capstone_resubmission_squeeze_soft_round_shifted_hiv_shocks_covid_all_who_reagg/_all.nc\",\n",
    "    #     'migration': '/mnt/share/forecasting/data/6/future/migration/20230605_loc_intercept_shocks_pg_21LOCS_ATTENUATED/migration.nc',\n",
    "}\n",
    "\n",
    "# These IDs are listed on https://shiny.ihme.washington.edu/content/273/\n",
    "loc_id, loc_name = (\n",
    "    102,\n",
    "    \"United States of America\",\n",
    ")  # TODO: make this work for any location\n",
    "age_mapping = pd.read_csv(\n",
    "    f\"data/age_bins.csv\"\n",
    ")  # downloaded with a different environment\n",
    "# using vivarium_inputs.utility_data.get_age_bins;\n",
    "# see also https://shiny.ihme.washington.edu/content/273/\n",
    "# TODO: refactor this so that it does not require an extra .csv file\n",
    "age_mapping"
   ]
  },
  {
   "cell_type": "code",
   "execution_count": null,
   "id": "8124dcef-2979-4546-9031-b8e535cb29ec",
   "metadata": {},
   "outputs": [],
   "source": [
    "%%time\n",
    "\n",
    "df = {}\n",
    "\n",
    "for param in ['population', 'mortality']:\n",
    "    df[param] = table_from_nc(fname_dict, param, loc_id, loc_name, age_mapping)  # slow, takes minutes to hours to run, depending on disk caching"
   ]
  },
  {
   "cell_type": "code",
   "execution_count": null,
   "id": "3aeed0a5",
   "metadata": {},
   "outputs": [],
   "source": [
    "art.load('population.structure') # old population structure"
   ]
  },
  {
   "cell_type": "code",
   "execution_count": null,
   "id": "07322c4c",
   "metadata": {},
   "outputs": [],
   "source": [
    "df['population']['value'] = df['population'].mean(axis=1)\n",
    "new_pop_structure = df['population'].filter(like='value')"
   ]
  },
  {
   "cell_type": "code",
   "execution_count": null,
   "id": "ea58c4e2",
   "metadata": {},
   "outputs": [],
   "source": [
    "new_pop_structure"
   ]
  },
  {
   "cell_type": "code",
   "execution_count": null,
   "id": "2f83aba3-6ebb-4f62-81ff-626546cdb5e0",
   "metadata": {},
   "outputs": [],
   "source": [
    "art.replace('population.structure', new_pop_structure)\n",
    "art.load('population.structure') # new population structure"
   ]
  },
  {
   "cell_type": "code",
   "execution_count": null,
   "id": "d711b3cb-4731-4d49-a0c7-86e374201af5",
   "metadata": {},
   "outputs": [],
   "source": [
    "art.load('cause.all_causes.cause_specific_mortality_rate')  # old mortality rates"
   ]
  },
  {
   "cell_type": "code",
   "execution_count": null,
   "id": "3f6f0a9c",
   "metadata": {},
   "outputs": [],
   "source": [
    "df['mortality']"
   ]
  },
  {
   "cell_type": "code",
   "execution_count": null,
   "id": "096a7c44-c848-4374-a029-f0098251218f",
   "metadata": {},
   "outputs": [],
   "source": [
    "art.replace('cause.all_causes.cause_specific_mortality_rate', df['mortality'].loc['United States of America'])\n",
    "art.load('cause.all_causes.cause_specific_mortality_rate')  # new mortality rates"
   ]
  },
  {
   "cell_type": "code",
   "execution_count": null,
   "id": "ff2fb4fa",
   "metadata": {},
   "outputs": [],
   "source": [
    "new_pop_bins = art.load('population.age_bins').query('age_start >= 5.0')\n",
    "art.replace('population.age_bins', new_pop_bins)"
   ]
  },
  {
   "cell_type": "code",
   "execution_count": null,
   "id": "e6cbff66-2307-48ff-b372-d8dace2e060e",
   "metadata": {},
   "outputs": [],
   "source": [
    "# now we need to replicate the prevalence scale factor for each year\n",
    "df = art.load('cause.alzheimers_disease_and_other_dementias.prevalence_scale_factor')"
   ]
  },
  {
   "cell_type": "code",
   "execution_count": null,
   "id": "f55f51a8-2c14-46ae-b736-28f8da344b2d",
   "metadata": {},
   "outputs": [],
   "source": [
    "index_cols = list(df.index.names)\n",
    "df = df.reset_index()"
   ]
  },
  {
   "cell_type": "code",
   "execution_count": null,
   "id": "3205c68b-0f2b-4aa4-9467-dae4f92ff672",
   "metadata": {},
   "outputs": [],
   "source": [
    "df_list = []\n",
    "\n",
    "for y in range(2022, 2051):\n",
    "    df_y = df.copy()\n",
    "    df_y['year_start'] = y\n",
    "    df_y['year_end'] = y+1\n",
    "    df_list.append(\n",
    "        df_y\n",
    "    )"
   ]
  },
  {
   "cell_type": "code",
   "execution_count": null,
   "id": "bfe2fcb0-7742-4bc8-aab0-1110e94a3ab4",
   "metadata": {},
   "outputs": [],
   "source": [
    "df_all = pd.concat(df_list).set_index(index_cols)\n",
    "df_all"
   ]
  },
  {
   "cell_type": "code",
   "execution_count": null,
   "id": "df96d821-ef7e-4c3e-a4a9-3857fbddd8a7",
   "metadata": {},
   "outputs": [],
   "source": [
    "art.replace('cause.alzheimers_disease_and_other_dementias.prevalence_scale_factor', df_all)"
   ]
  },
  {
   "cell_type": "code",
   "execution_count": null,
   "id": "f52b6191-fa62-48e6-91b0-c5e07dafe468",
   "metadata": {},
   "outputs": [],
   "source": [
    "!ls -halt $new_artifact_dir/united_states_of_america.hdf"
   ]
  },
  {
   "cell_type": "code",
   "execution_count": null,
   "id": "aa9132e7",
   "metadata": {},
   "outputs": [],
   "source": []
  }
 ],
 "metadata": {
  "kernelspec": {
   "display_name": "vivarium_research",
   "language": "python",
   "name": "python3"
  },
  "language_info": {
   "codemirror_mode": {
    "name": "ipython",
    "version": 3
   },
   "file_extension": ".py",
   "mimetype": "text/x-python",
   "name": "python",
   "nbconvert_exporter": "python",
   "pygments_lexer": "ipython3",
   "version": "3.13.3"
  }
 },
 "nbformat": 4,
 "nbformat_minor": 5
}
