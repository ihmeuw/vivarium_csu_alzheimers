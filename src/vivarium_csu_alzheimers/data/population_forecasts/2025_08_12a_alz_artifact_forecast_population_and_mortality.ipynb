{
 "cells": [
  {
   "cell_type": "markdown",
   "id": "707c75b9-d5e4-4924-8d39-fd78a1e4f7ce",
   "metadata": {},
   "source": [
    "# Demonstrate how to replace population and mortality data for Alzheimer's Model 3 with forecasts\n",
    "\n",
    "    Age-specific population - /mnt/share/forecasting/data/9/future/population/20240320_daly_capstone_resubmission_squeeze_soft_round_shifted_hiv_shocks_covid_all_who_reagg/population_agg.nc\n",
    "\n",
    "    Deaths Rates - /snfs1/Project/forecasting/results/7/future/death/20240320_daly_capstone_resubmission_squeeze_soft_round_shifted_hiv_shocks_covid_all_who_reagg/\n",
    "\n"
   ]
  },
  {
   "cell_type": "code",
   "execution_count": 1,
   "id": "72ad6069-18c3-4b28-afa7-915fd1ed0e45",
   "metadata": {},
   "outputs": [
    {
     "name": "stdout",
     "output_type": "stream",
     "text": [
      "Tue Aug 12 21:08:31 PDT 2025\r\n"
     ]
    }
   ],
   "source": [
    "import vivarium\n",
    "!date"
   ]
  },
  {
   "cell_type": "code",
   "execution_count": 2,
   "id": "d85f887c-ba85-44ae-9df4-6c4287b4d2b2",
   "metadata": {},
   "outputs": [],
   "source": [
    "import xarray as xr, numpy as np, pandas as pd, matplotlib.pyplot as plt"
   ]
  },
  {
   "cell_type": "code",
   "execution_count": 3,
   "id": "4b6c89c3",
   "metadata": {},
   "outputs": [
    {
     "name": "stdout",
     "output_type": "stream",
     "text": [
      "-rw-r--r-- 1 abie IHME-Simulationscience 2.9M Aug 12 21:08 /mnt/team/simulation_science/pub/models/vivarium_csu_alzheimers/artifacts/model3.0//united_states_of_america.hdf\r\n"
     ]
    }
   ],
   "source": [
    "# copy model 2 artifact to a new place for modification\n",
    "# TODO: make this work for all location artifacts\n",
    "old_artifact_path = '/mnt/team/simulation_science/pub/models/vivarium_csu_alzheimers/artifacts/model2.0/united_states_of_america.hdf'\n",
    "new_artifact_dir = '/mnt/team/simulation_science/pub/models/vivarium_csu_alzheimers/artifacts/model3.0/'\n",
    "!cp $old_artifact_path $new_artifact_dir   # TODO: modify an artifact being built for the current model instead of copying the artifact from model 2\n",
    "!ls -halt $new_artifact_dir/united_states_of_america.hdf"
   ]
  },
  {
   "cell_type": "code",
   "execution_count": 4,
   "id": "fb4615ce",
   "metadata": {},
   "outputs": [
    {
     "data": {
      "text/plain": [
       "['metadata.keyspace',\n",
       " 'metadata.locations',\n",
       " 'population.location',\n",
       " 'population.structure',\n",
       " 'population.age_bins',\n",
       " 'population.demographic_dimensions',\n",
       " 'population.theoretical_minimum_risk_life_expectancy',\n",
       " 'cause.all_causes.cause_specific_mortality_rate',\n",
       " 'covariate.live_births_by_sex.estimate',\n",
       " 'cause.alzheimers_disease_and_other_dementias.prevalence_scale_factor',\n",
       " 'cause.alzheimers_disease_and_other_dementias.prevalence',\n",
       " 'cause.alzheimers_disease_and_other_dementias.incidence_rate',\n",
       " 'cause.alzheimers_disease_and_other_dementias.cause_specific_mortality_rate',\n",
       " 'cause.alzheimers_disease_and_other_dementias.excess_mortality_rate',\n",
       " 'cause.alzheimers_disease_and_other_dementias.disability_weight',\n",
       " 'cause.alzheimers_disease_and_other_dementias.restrictions']"
      ]
     },
     "execution_count": 4,
     "metadata": {},
     "output_type": "execute_result"
    }
   ],
   "source": [
    "# take a look at what we are planning to replace\n",
    "art = vivarium.Artifact(f'{new_artifact_dir}/united_states_of_america.hdf') # TODO: make this generate for any location\n",
    "art.keys"
   ]
  },
  {
   "cell_type": "code",
   "execution_count": 5,
   "id": "fffb34e1",
   "metadata": {},
   "outputs": [],
   "source": [
    "# art.load('population.structure')"
   ]
  },
  {
   "cell_type": "code",
   "execution_count": 6,
   "id": "589c13c2",
   "metadata": {},
   "outputs": [],
   "source": [
    "# art.load('cause.all_causes.cause_specific_mortality_rate')"
   ]
  },
  {
   "cell_type": "markdown",
   "id": "4922ad15",
   "metadata": {},
   "source": [
    "## make tables from FHS .nc files"
   ]
  },
  {
   "cell_type": "code",
   "execution_count": 7,
   "id": "19c0ac4d-5cb2-47f8-83c0-4908e69d541f",
   "metadata": {},
   "outputs": [],
   "source": [
    "def table_from_nc(fname_dict, param, loc_id, loc_name, age_mapping):\n",
    "    ds = xr.open_dataset(\n",
    "        fname_dict[param],\n",
    "        engine=\"netcdf4\",               # let xarray auto-detect; list here if you know it\n",
    "        decode_cf=True,                 # handle CF-conventions (time units, etc.)\n",
    "    )\n",
    "\n",
    "    # Select relevant part of FHS dataset\n",
    "    var_name = param\n",
    "    if param == 'births':\n",
    "        var_name = 'population'\n",
    "    elif param in ['migration', 'mortality']:\n",
    "        var_name = 'value'\n",
    "        \n",
    "    pop_ts = ds[var_name].sel(\n",
    "              location_id=loc_id,\n",
    "          )\n",
    "\n",
    "    if param != 'migration':\n",
    "        pop_ts = pop_ts.isel(scenario=0)\n",
    "          \n",
    "    pop_ts = pop_ts.squeeze(drop=True)  # remove now-singleton dims\n",
    "    \n",
    "    df = pop_ts.to_dataframe(name='value').reset_index()\n",
    "    \n",
    "    # Transform to vivarium format\n",
    "    # 1. Convert location_id to location name\n",
    "    df['location'] = loc_name\n",
    "    \n",
    "    # 2. Convert sex_id to sex names\n",
    "    sex_mapping = {1: 'Male', 2: 'Female',}\n",
    "    df['sex'] = df['sex_id'].map(sex_mapping)\n",
    "    \n",
    "    # 3. Convert age_group_id to age intervals\n",
    "    if param != 'births':\n",
    "        age_bins = age_mapping.set_index('age_group_id')\n",
    "        df['age_start'] = np.round(df['age_group_id'].map(age_bins['age_start']), 3)\n",
    "        df['age_end'] = np.round(df['age_group_id'].map(age_bins['age_end']), 3)\n",
    "        age_cols = ['age_start', 'age_end']\n",
    "    else:\n",
    "        age_cols = []\n",
    "    \n",
    "    # 4. Convert year_id to year intervals\n",
    "    df['year_start'] = df['year_id'].map(int)\n",
    "    df['year_end'] = df['year_id'].map(int)+1\n",
    "        \n",
    "    # 5. Set index and unstack to get draw columns\n",
    "    index_cols = ['location', 'sex',] + age_cols + ['year_start', 'year_end', 'draw']\n",
    "    df_indexed = df.dropna(subset=index_cols).set_index(index_cols)\n",
    "    \n",
    "    df_wide = df_indexed['value'].unstack(level='draw')\n",
    "    \n",
    "    # 6. Rename columns to draw_x format\n",
    "    df_wide.columns = [f'draw_{col}' for col in df_wide.columns]\n",
    "    \n",
    "    return df_wide"
   ]
  },
  {
   "cell_type": "code",
   "execution_count": 8,
   "id": "964832a3-08ee-4a73-9e2b-220452f33e50",
   "metadata": {},
   "outputs": [],
   "source": [
    "fname_dict = {\n",
    "    'population': '/mnt/share/forecasting/data/9/future/population/20240320_daly_capstone_resubmission_squeeze_soft_round_shifted_hiv_shocks_covid_all_who_reagg/population_agg.nc',\n",
    "#     'births': '/mnt/share/forecasting/data/9/future/live_births/20231204_ref/live_births.nc',\n",
    "#     'deaths': '/snfs1/Project/forecasting/results/7/future/death/20240320_daly_capstone_resubmission_squeeze_soft_round_shifted_hiv_shocks_covid_all_who_reagg_num/_all.nc',\n",
    "    'mortality': '/snfs1/Project/forecasting/results/7/future/death/20240320_daly_capstone_resubmission_squeeze_soft_round_shifted_hiv_shocks_covid_all_who_reagg/_all.nc',\n",
    "#     'migration': '/mnt/share/forecasting/data/6/future/migration/20230605_loc_intercept_shocks_pg_21LOCS_ATTENUATED/migration.nc',\n",
    "}\n",
    "\n",
    "# These IDs are listed on https://shiny.ihme.washington.edu/content/273/\n",
    "loc_id, loc_name  = 102, 'United States of America'   # TODO: make this work for any location\n",
    "age_mapping = pd.read_csv(f'data/age_bins.csv')  # downloaded with a different environment\n",
    "                                                # using vivarium_inputs.utility_data.get_age_bins;\n",
    "                                                # see also https://shiny.ihme.washington.edu/content/273/\n",
    "                                                # TODO: refactor this so that it does not require an extra .csv file"
   ]
  },
  {
   "cell_type": "code",
   "execution_count": null,
   "id": "8124dcef-2979-4546-9031-b8e535cb29ec",
   "metadata": {},
   "outputs": [],
   "source": [
    "%%time\n",
    "\n",
    "df = {}\n",
    "\n",
    "for param in ['population', 'mortality']:\n",
    "    df[param] = table_from_nc(fname_dict, param, loc_id, loc_name, age_mapping)  # slow, takes minutes to hours to run, depending on disk caching"
   ]
  },
  {
   "cell_type": "code",
   "execution_count": null,
   "id": "3aeed0a5",
   "metadata": {},
   "outputs": [],
   "source": [
    "art.load('population.structure') # old population structure"
   ]
  },
  {
   "cell_type": "code",
   "execution_count": null,
   "id": "07322c4c",
   "metadata": {},
   "outputs": [],
   "source": [
    "df['population']['value'] = df['population'].mean(axis=1)\n",
    "new_pop_structure = df['population'].filter(like='value')"
   ]
  },
  {
   "cell_type": "code",
   "execution_count": null,
   "id": "ea58c4e2",
   "metadata": {},
   "outputs": [],
   "source": [
    "new_pop_structure"
   ]
  },
  {
   "cell_type": "code",
   "execution_count": null,
   "id": "2f83aba3-6ebb-4f62-81ff-626546cdb5e0",
   "metadata": {},
   "outputs": [],
   "source": [
    "art.replace('population.structure', new_pop_structure)\n",
    "art.load('population.structure') # new population structure"
   ]
  },
  {
   "cell_type": "code",
   "execution_count": null,
   "id": "d711b3cb-4731-4d49-a0c7-86e374201af5",
   "metadata": {},
   "outputs": [],
   "source": [
    "art.load('cause.all_causes.cause_specific_mortality_rate')  # old mortality rates"
   ]
  },
  {
   "cell_type": "code",
   "execution_count": null,
   "id": "3f6f0a9c",
   "metadata": {},
   "outputs": [],
   "source": [
    "df['mortality']"
   ]
  },
  {
   "cell_type": "code",
   "execution_count": null,
   "id": "096a7c44-c848-4374-a029-f0098251218f",
   "metadata": {},
   "outputs": [],
   "source": [
    "art.replace('cause.all_causes.cause_specific_mortality_rate', df['mortality'].loc['United States of America'])\n",
    "art.load('cause.all_causes.cause_specific_mortality_rate')  # new mortality rates"
   ]
  },
  {
   "cell_type": "code",
   "execution_count": null,
   "id": "ff2fb4fa",
   "metadata": {},
   "outputs": [],
   "source": [
    "new_pop_bins = art.load('population.age_bins').query('age_start >= 5.0')\n",
    "art.replace('population.age_bins', new_pop_bins)"
   ]
  },
  {
   "cell_type": "code",
   "execution_count": null,
   "id": "e6cbff66-2307-48ff-b372-d8dace2e060e",
   "metadata": {},
   "outputs": [],
   "source": [
    "# now we need to replicate the prevalence scale factor for each year\n",
    "df = art.load('cause.alzheimers_disease_and_other_dementias.prevalence_scale_factor')"
   ]
  },
  {
   "cell_type": "code",
   "execution_count": null,
   "id": "f55f51a8-2c14-46ae-b736-28f8da344b2d",
   "metadata": {},
   "outputs": [],
   "source": [
    "index_cols = list(df.index.names)\n",
    "df = df.reset_index()"
   ]
  },
  {
   "cell_type": "code",
   "execution_count": null,
   "id": "3205c68b-0f2b-4aa4-9467-dae4f92ff672",
   "metadata": {},
   "outputs": [],
   "source": [
    "df_list = []\n",
    "\n",
    "for y in range(2022, 2051):\n",
    "    df_y = df.copy()\n",
    "    df_y['year_start'] = y\n",
    "    df_y['year_end'] = y+1\n",
    "    df_list.append(\n",
    "        df_y\n",
    "    )"
   ]
  },
  {
   "cell_type": "code",
   "execution_count": null,
   "id": "bfe2fcb0-7742-4bc8-aab0-1110e94a3ab4",
   "metadata": {},
   "outputs": [],
   "source": [
    "df_all = pd.concat(df_list).set_index(index_cols)\n",
    "df_all"
   ]
  },
  {
   "cell_type": "code",
   "execution_count": null,
   "id": "df96d821-ef7e-4c3e-a4a9-3857fbddd8a7",
   "metadata": {},
   "outputs": [],
   "source": [
    "art.replace('cause.alzheimers_disease_and_other_dementias.prevalence_scale_factor', df_all)"
   ]
  },
  {
   "cell_type": "code",
   "execution_count": null,
   "id": "f52b6191-fa62-48e6-91b0-c5e07dafe468",
   "metadata": {},
   "outputs": [],
   "source": [
    "!ls -halt $new_artifact_dir/united_states_of_america.hdf"
   ]
  },
  {
   "cell_type": "code",
   "execution_count": null,
   "id": "aa9132e7",
   "metadata": {},
   "outputs": [],
   "source": []
  }
 ],
 "metadata": {
  "kernelspec": {
   "display_name": "Python (llm_env)",
   "language": "python",
   "name": "llm_env"
  },
  "language_info": {
   "codemirror_mode": {
    "name": "ipython",
    "version": 3
   },
   "file_extension": ".py",
   "mimetype": "text/x-python",
   "name": "python",
   "nbconvert_exporter": "python",
   "pygments_lexer": "ipython3",
   "version": "3.11.13"
  }
 },
 "nbformat": 4,
 "nbformat_minor": 5
}
